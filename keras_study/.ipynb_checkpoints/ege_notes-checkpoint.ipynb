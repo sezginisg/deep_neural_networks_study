{
 "cells": [
  {
   "cell_type": "code",
   "execution_count": 1,
   "metadata": {},
   "outputs": [
    {
     "name": "stdout",
     "output_type": "stream",
     "text": [
      "#####     ###     #####\n",
      "#        #        #\n",
      "#####    # ###    #####\n",
      "#        #   #    #\n",
      "#####     ###     #####\n"
     ]
    }
   ],
   "source": [
    "space = ' '  #create useful variables\n",
    "space4 = \"    \"\n",
    "hash_hash = \"#\"\n",
    "hash_hash5 = hash_hash*5\n",
    "\n",
    "#create the liness via string concatenation\n",
    "first_line = hash_hash5 + space4 + space +hash_hash*3 + space + space4 + hash_hash5\n",
    "second_line = hash_hash + space4*2 + hash_hash + space4*2 + hash_hash\n",
    "third_line = hash_hash5 + space4 + hash_hash + space + hash_hash*3 + space4 + hash_hash5\n",
    "fourth_line = hash_hash + space4*2 + hash_hash +space*3 + hash_hash +space4 + hash_hash\n",
    "fifth_line = hash_hash5 + space4 + space + hash_hash*3 + space + space4 + hash_hash5\n",
    "\n",
    "lines = [first_line, second_line, third_line, fourth_line, fifth_line] #create a list made up from the lines\n",
    "for x in [0,1,2,3,4]:\n",
    "    line = lines[x] #get the object from the list by calling it via it's index\n",
    "    print(line)"
   ]
  },
  {
   "cell_type": "code",
   "execution_count": 2,
   "metadata": {},
   "outputs": [
    {
     "name": "stdout",
     "output_type": "stream",
     "text": [
      "#####     ###     #####\n",
      "#        #        #\n",
      "#####    # ###    #####\n",
      "#        #   #    #\n",
      "#####     ###     #####\n"
     ]
    }
   ],
   "source": [
    "for j in range(5): #a loop from means it will iterate over and call inside function 5 times updating value of the i\n",
    "    if j == 0:\n",
    "        print(lines[0])\n",
    "    elif j == 1:\n",
    "        print(lines[j]) #j =1 here\n",
    "    elif j == 2:\n",
    "        print(lines[2])\n",
    "    elif j == 3:\n",
    "        print(lines[j]) #j = 3 here\n",
    "    else:\n",
    "        print(lines[-1]) #the last element which is the same with lines[4] or lines[j]"
   ]
  },
  {
   "cell_type": "code",
   "execution_count": 3,
   "metadata": {},
   "outputs": [
    {
     "name": "stdout",
     "output_type": "stream",
     "text": [
      "#####     ###     #####\n",
      "#        #        #\n",
      "#####    # ###    #####\n",
      "#        #   #    #\n",
      "#####     ###     #####\n"
     ]
    }
   ],
   "source": [
    "dict_ege = {} #create an empty dictionary object\n",
    "for i in range(5):\n",
    "    key = i #create a key starting from 0 to 5\n",
    "    item = lines[i] #select the line from lines as our item\n",
    "    dict_ege[key] = item  #for each key add associated item which is a line in our case\n",
    "\n",
    "for key, item in dict_ege.items(): #iterate through the dictionary and print the items for each key\n",
    "    print(item)"
   ]
  },
  {
   "cell_type": "code",
   "execution_count": 4,
   "metadata": {},
   "outputs": [
    {
     "name": "stdout",
     "output_type": "stream",
     "text": [
      "             ##\n",
      "            ###\n",
      "           ####\n",
      "          #####\n",
      "         ######\n",
      "        #######\n",
      "       ########\n",
      "      #########\n",
      "     ##########\n",
      "    ###########\n",
      "   ############\n",
      "  #############\n"
     ]
    }
   ],
   "source": [
    "j = 14\n",
    "for i in range(2,j):\n",
    "    brick = '#'*i\n",
    "    x = j - i\n",
    "    space = \" \"*x\n",
    "    print(space, brick)  "
   ]
  },
  {
   "cell_type": "code",
   "execution_count": null,
   "metadata": {},
   "outputs": [],
   "source": []
  }
 ],
 "metadata": {
  "kernelspec": {
   "display_name": "Python 3",
   "language": "python",
   "name": "python3"
  },
  "language_info": {
   "codemirror_mode": {
    "name": "ipython",
    "version": 3
   },
   "file_extension": ".py",
   "mimetype": "text/x-python",
   "name": "python",
   "nbconvert_exporter": "python",
   "pygments_lexer": "ipython3",
   "version": "3.7.3"
  }
 },
 "nbformat": 4,
 "nbformat_minor": 2
}
